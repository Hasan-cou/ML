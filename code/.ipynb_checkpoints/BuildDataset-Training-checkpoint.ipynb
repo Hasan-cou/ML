{
 "cells": [
  {
   "cell_type": "markdown",
   "id": "2c6a644f",
   "metadata": {},
   "source": [
    "# Build Training Datasets Notebook\n",
    "\n",
    "## Purpose and Context\n",
    "\n",
    "This notebook combines PhotochemCAD 3, Dyomics and Deep4Chem data into a development and validation dataset with known epsilons to be used to train and validate models to predict epsilon.\n",
    "\n",
    "Since this dataset has SMILES format the chemical compound and molecular weight will come from it instead of the main source if it was provided.\n",
    "\n",
    "\n",
    "## Setup\n",
    "\n",
    "import libraries"
   ]
  },
  {
   "cell_type": "code",
   "execution_count": 2,
   "id": "b2e68ba7",
   "metadata": {},
   "outputs": [
    {
     "name": "stderr",
     "output_type": "stream",
     "text": [
      "C:\\Users\\ASUS\\AppData\\Local\\Temp\\ipykernel_5208\\3101613315.py:4: DeprecationWarning: Importing display from IPython.core.display is deprecated since IPython 7.14, please import from IPython display\n",
      "  from IPython.core.display import display, HTML\n"
     ]
    },
    {
     "data": {
      "text/html": [
       "<style>.container { width:100% !important; }</style>"
      ],
      "text/plain": [
       "<IPython.core.display.HTML object>"
      ]
     },
     "metadata": {},
     "output_type": "display_data"
    },
    {
     "ename": "ModuleNotFoundError",
     "evalue": "No module named 'rdkit'",
     "output_type": "error",
     "traceback": [
      "\u001B[1;31m---------------------------------------------------------------------------\u001B[0m",
      "\u001B[1;31mModuleNotFoundError\u001B[0m                       Traceback (most recent call last)",
      "Cell \u001B[1;32mIn [2], line 8\u001B[0m\n\u001B[0;32m      5\u001B[0m display(HTML(\u001B[38;5;124m\"\u001B[39m\u001B[38;5;124m<style>.container \u001B[39m\u001B[38;5;124m{\u001B[39m\u001B[38;5;124m width:100\u001B[39m\u001B[38;5;124m%\u001B[39m\u001B[38;5;124m !important; }</style>\u001B[39m\u001B[38;5;124m\"\u001B[39m))\n\u001B[0;32m      7\u001B[0m \u001B[38;5;28;01mimport\u001B[39;00m \u001B[38;5;21;01mutils\u001B[39;00m\n\u001B[1;32m----> 8\u001B[0m \u001B[38;5;28;01mimport\u001B[39;00m \u001B[38;5;21;01mfeatures\u001B[39;00m\n\u001B[0;32m     10\u001B[0m \u001B[38;5;28;01mfrom\u001B[39;00m \u001B[38;5;21;01mrdkit\u001B[39;00m \u001B[38;5;28;01mimport\u001B[39;00m Chem\n\u001B[0;32m     12\u001B[0m \u001B[38;5;28;01mimport\u001B[39;00m \u001B[38;5;21;01mtqdm\u001B[39;00m\u001B[38;5;21;01m.\u001B[39;00m\u001B[38;5;21;01mnotebook\u001B[39;00m\n",
      "File \u001B[1;32m~\\PycharmProjects\\PredictEpsilon-Publish-main\\code\\features.py:5\u001B[0m\n\u001B[0;32m      1\u001B[0m \u001B[38;5;66;03m# This file contains the various functions needed to calculate the features utilized for training and predictions\u001B[39;00m\n\u001B[0;32m      3\u001B[0m \u001B[38;5;28;01mimport\u001B[39;00m \u001B[38;5;21;01mnumpy\u001B[39;00m \u001B[38;5;28;01mas\u001B[39;00m \u001B[38;5;21;01mnp\u001B[39;00m\n\u001B[1;32m----> 5\u001B[0m \u001B[38;5;28;01mfrom\u001B[39;00m \u001B[38;5;21;01mrdkit\u001B[39;00m \u001B[38;5;28;01mimport\u001B[39;00m Chem\n\u001B[0;32m      6\u001B[0m \u001B[38;5;28;01mfrom\u001B[39;00m \u001B[38;5;21;01mrdkit\u001B[39;00m\u001B[38;5;21;01m.\u001B[39;00m\u001B[38;5;21;01mChem\u001B[39;00m\u001B[38;5;21;01m.\u001B[39;00m\u001B[38;5;21;01mMolStandardize\u001B[39;00m \u001B[38;5;28;01mimport\u001B[39;00m rdMolStandardize\n\u001B[0;32m      7\u001B[0m \u001B[38;5;28;01mimport\u001B[39;00m \u001B[38;5;21;01mrdkit\u001B[39;00m\u001B[38;5;21;01m.\u001B[39;00m\u001B[38;5;21;01mChem\u001B[39;00m\u001B[38;5;21;01m.\u001B[39;00m\u001B[38;5;21;01mDescriptors\u001B[39;00m\n",
      "\u001B[1;31mModuleNotFoundError\u001B[0m: No module named 'rdkit'"
     ]
    }
   ],
   "source": [
    "import pandas as pd\n",
    "import numpy as np\n",
    "\n",
    "from IPython.core.display import display, HTML\n",
    "display(HTML(\"<style>.container { width:100% !important; }</style>\"))\n",
    "\n",
    "import utils\n",
    "import features\n",
    "\n",
    "from rdkit import Chem\n",
    "\n",
    "import tqdm.notebook\n",
    "tqdm.notebook.tqdm_notebook.pandas()"
   ]
  },
  {
   "cell_type": "markdown",
   "id": "80fb1e6a",
   "metadata": {},
   "source": [
    "## Load Data\n",
    "\n",
    "### Deep4Chem"
   ]
  },
  {
   "cell_type": "code",
   "execution_count": 3,
   "id": "fd201f89",
   "metadata": {},
   "outputs": [
    {
     "ename": "FileNotFoundError",
     "evalue": "[Errno 2] No such file or directory: '../output\\\\extraction-deep4Chem.gzip.parquet'",
     "output_type": "error",
     "traceback": [
      "\u001B[1;31m---------------------------------------------------------------------------\u001B[0m",
      "\u001B[1;31mFileNotFoundError\u001B[0m                         Traceback (most recent call last)",
      "Cell \u001B[1;32mIn [3], line 1\u001B[0m\n\u001B[1;32m----> 1\u001B[0m temp \u001B[38;5;241m=\u001B[39m \u001B[43mutils\u001B[49m\u001B[38;5;241;43m.\u001B[39;49m\u001B[43mLoadDataFromOutput\u001B[49m\u001B[43m(\u001B[49m\u001B[38;5;124;43m'\u001B[39;49m\u001B[38;5;124;43mextraction-deep4Chem\u001B[39;49m\u001B[38;5;124;43m'\u001B[39;49m\u001B[43m)\u001B[49m\n\u001B[0;32m      2\u001B[0m temp[\u001B[38;5;124m'\u001B[39m\u001B[38;5;124mSource\u001B[39m\u001B[38;5;124m'\u001B[39m] \u001B[38;5;241m=\u001B[39m \u001B[38;5;124m'\u001B[39m\u001B[38;5;124mDeep4Chem\u001B[39m\u001B[38;5;124m'\u001B[39m\n\u001B[0;32m      3\u001B[0m \u001B[38;5;28mprint\u001B[39m(\u001B[38;5;28mlen\u001B[39m(temp))\n",
      "File \u001B[1;32m~\\PycharmProjects\\PredictEpsilon-Publish-main\\code\\utils.py:148\u001B[0m, in \u001B[0;36mLoadDataFromOutput\u001B[1;34m(name)\u001B[0m\n\u001B[0;32m    147\u001B[0m \u001B[38;5;28;01mdef\u001B[39;00m \u001B[38;5;21mLoadDataFromOutput\u001B[39m(name):\n\u001B[1;32m--> 148\u001B[0m     \u001B[38;5;28;01mreturn\u001B[39;00m \u001B[43mpd\u001B[49m\u001B[38;5;241;43m.\u001B[39;49m\u001B[43mread_parquet\u001B[49m\u001B[43m(\u001B[49m\u001B[43mos\u001B[49m\u001B[38;5;241;43m.\u001B[39;49m\u001B[43mpath\u001B[49m\u001B[38;5;241;43m.\u001B[39;49m\u001B[43mjoin\u001B[49m\u001B[43m(\u001B[49m\u001B[43moutputDirectory\u001B[49m\u001B[43m,\u001B[49m\u001B[43m \u001B[49m\u001B[43mname\u001B[49m\u001B[43m \u001B[49m\u001B[38;5;241;43m+\u001B[39;49m\u001B[43m \u001B[49m\u001B[38;5;124;43m'\u001B[39;49m\u001B[38;5;124;43m.gzip.parquet\u001B[39;49m\u001B[38;5;124;43m'\u001B[39;49m\u001B[43m)\u001B[49m\u001B[43m)\u001B[49m\n",
      "File \u001B[1;32m~\\AppData\\Local\\Programs\\Python\\Python310\\lib\\site-packages\\pandas\\io\\parquet.py:501\u001B[0m, in \u001B[0;36mread_parquet\u001B[1;34m(path, engine, columns, storage_options, use_nullable_dtypes, **kwargs)\u001B[0m\n\u001B[0;32m    454\u001B[0m \u001B[38;5;124;03m\"\"\"\u001B[39;00m\n\u001B[0;32m    455\u001B[0m \u001B[38;5;124;03mLoad a parquet object from the file path, returning a DataFrame.\u001B[39;00m\n\u001B[0;32m    456\u001B[0m \n\u001B[1;32m   (...)\u001B[0m\n\u001B[0;32m    497\u001B[0m \u001B[38;5;124;03mDataFrame\u001B[39;00m\n\u001B[0;32m    498\u001B[0m \u001B[38;5;124;03m\"\"\"\u001B[39;00m\n\u001B[0;32m    499\u001B[0m impl \u001B[38;5;241m=\u001B[39m get_engine(engine)\n\u001B[1;32m--> 501\u001B[0m \u001B[38;5;28;01mreturn\u001B[39;00m impl\u001B[38;5;241m.\u001B[39mread(\n\u001B[0;32m    502\u001B[0m     path,\n\u001B[0;32m    503\u001B[0m     columns\u001B[38;5;241m=\u001B[39mcolumns,\n\u001B[0;32m    504\u001B[0m     storage_options\u001B[38;5;241m=\u001B[39mstorage_options,\n\u001B[0;32m    505\u001B[0m     use_nullable_dtypes\u001B[38;5;241m=\u001B[39muse_nullable_dtypes,\n\u001B[0;32m    506\u001B[0m     \u001B[38;5;241m*\u001B[39m\u001B[38;5;241m*\u001B[39mkwargs,\n\u001B[0;32m    507\u001B[0m )\n",
      "File \u001B[1;32m~\\AppData\\Local\\Programs\\Python\\Python310\\lib\\site-packages\\pandas\\io\\parquet.py:242\u001B[0m, in \u001B[0;36mPyArrowImpl.read\u001B[1;34m(self, path, columns, use_nullable_dtypes, storage_options, **kwargs)\u001B[0m\n\u001B[0;32m    239\u001B[0m \u001B[38;5;28;01mif\u001B[39;00m manager \u001B[38;5;241m==\u001B[39m \u001B[38;5;124m\"\u001B[39m\u001B[38;5;124marray\u001B[39m\u001B[38;5;124m\"\u001B[39m:\n\u001B[0;32m    240\u001B[0m     to_pandas_kwargs[\u001B[38;5;124m\"\u001B[39m\u001B[38;5;124msplit_blocks\u001B[39m\u001B[38;5;124m\"\u001B[39m] \u001B[38;5;241m=\u001B[39m \u001B[38;5;28;01mTrue\u001B[39;00m  \u001B[38;5;66;03m# type: ignore[assignment]\u001B[39;00m\n\u001B[1;32m--> 242\u001B[0m path_or_handle, handles, kwargs[\u001B[38;5;124m\"\u001B[39m\u001B[38;5;124mfilesystem\u001B[39m\u001B[38;5;124m\"\u001B[39m] \u001B[38;5;241m=\u001B[39m \u001B[43m_get_path_or_handle\u001B[49m\u001B[43m(\u001B[49m\n\u001B[0;32m    243\u001B[0m \u001B[43m    \u001B[49m\u001B[43mpath\u001B[49m\u001B[43m,\u001B[49m\n\u001B[0;32m    244\u001B[0m \u001B[43m    \u001B[49m\u001B[43mkwargs\u001B[49m\u001B[38;5;241;43m.\u001B[39;49m\u001B[43mpop\u001B[49m\u001B[43m(\u001B[49m\u001B[38;5;124;43m\"\u001B[39;49m\u001B[38;5;124;43mfilesystem\u001B[39;49m\u001B[38;5;124;43m\"\u001B[39;49m\u001B[43m,\u001B[49m\u001B[43m \u001B[49m\u001B[38;5;28;43;01mNone\u001B[39;49;00m\u001B[43m)\u001B[49m\u001B[43m,\u001B[49m\n\u001B[0;32m    245\u001B[0m \u001B[43m    \u001B[49m\u001B[43mstorage_options\u001B[49m\u001B[38;5;241;43m=\u001B[39;49m\u001B[43mstorage_options\u001B[49m\u001B[43m,\u001B[49m\n\u001B[0;32m    246\u001B[0m \u001B[43m    \u001B[49m\u001B[43mmode\u001B[49m\u001B[38;5;241;43m=\u001B[39;49m\u001B[38;5;124;43m\"\u001B[39;49m\u001B[38;5;124;43mrb\u001B[39;49m\u001B[38;5;124;43m\"\u001B[39;49m\u001B[43m,\u001B[49m\n\u001B[0;32m    247\u001B[0m \u001B[43m\u001B[49m\u001B[43m)\u001B[49m\n\u001B[0;32m    248\u001B[0m \u001B[38;5;28;01mtry\u001B[39;00m:\n\u001B[0;32m    249\u001B[0m     result \u001B[38;5;241m=\u001B[39m \u001B[38;5;28mself\u001B[39m\u001B[38;5;241m.\u001B[39mapi\u001B[38;5;241m.\u001B[39mparquet\u001B[38;5;241m.\u001B[39mread_table(\n\u001B[0;32m    250\u001B[0m         path_or_handle, columns\u001B[38;5;241m=\u001B[39mcolumns, \u001B[38;5;241m*\u001B[39m\u001B[38;5;241m*\u001B[39mkwargs\n\u001B[0;32m    251\u001B[0m     )\u001B[38;5;241m.\u001B[39mto_pandas(\u001B[38;5;241m*\u001B[39m\u001B[38;5;241m*\u001B[39mto_pandas_kwargs)\n",
      "File \u001B[1;32m~\\AppData\\Local\\Programs\\Python\\Python310\\lib\\site-packages\\pandas\\io\\parquet.py:102\u001B[0m, in \u001B[0;36m_get_path_or_handle\u001B[1;34m(path, fs, storage_options, mode, is_dir)\u001B[0m\n\u001B[0;32m     92\u001B[0m handles \u001B[38;5;241m=\u001B[39m \u001B[38;5;28;01mNone\u001B[39;00m\n\u001B[0;32m     93\u001B[0m \u001B[38;5;28;01mif\u001B[39;00m (\n\u001B[0;32m     94\u001B[0m     \u001B[38;5;129;01mnot\u001B[39;00m fs\n\u001B[0;32m     95\u001B[0m     \u001B[38;5;129;01mand\u001B[39;00m \u001B[38;5;129;01mnot\u001B[39;00m is_dir\n\u001B[1;32m   (...)\u001B[0m\n\u001B[0;32m    100\u001B[0m     \u001B[38;5;66;03m# fsspec resources can also point to directories\u001B[39;00m\n\u001B[0;32m    101\u001B[0m     \u001B[38;5;66;03m# this branch is used for example when reading from non-fsspec URLs\u001B[39;00m\n\u001B[1;32m--> 102\u001B[0m     handles \u001B[38;5;241m=\u001B[39m \u001B[43mget_handle\u001B[49m\u001B[43m(\u001B[49m\n\u001B[0;32m    103\u001B[0m \u001B[43m        \u001B[49m\u001B[43mpath_or_handle\u001B[49m\u001B[43m,\u001B[49m\u001B[43m \u001B[49m\u001B[43mmode\u001B[49m\u001B[43m,\u001B[49m\u001B[43m \u001B[49m\u001B[43mis_text\u001B[49m\u001B[38;5;241;43m=\u001B[39;49m\u001B[38;5;28;43;01mFalse\u001B[39;49;00m\u001B[43m,\u001B[49m\u001B[43m \u001B[49m\u001B[43mstorage_options\u001B[49m\u001B[38;5;241;43m=\u001B[39;49m\u001B[43mstorage_options\u001B[49m\n\u001B[0;32m    104\u001B[0m \u001B[43m    \u001B[49m\u001B[43m)\u001B[49m\n\u001B[0;32m    105\u001B[0m     fs \u001B[38;5;241m=\u001B[39m \u001B[38;5;28;01mNone\u001B[39;00m\n\u001B[0;32m    106\u001B[0m     path_or_handle \u001B[38;5;241m=\u001B[39m handles\u001B[38;5;241m.\u001B[39mhandle\n",
      "File \u001B[1;32m~\\AppData\\Local\\Programs\\Python\\Python310\\lib\\site-packages\\pandas\\io\\common.py:866\u001B[0m, in \u001B[0;36mget_handle\u001B[1;34m(path_or_buf, mode, encoding, compression, memory_map, is_text, errors, storage_options)\u001B[0m\n\u001B[0;32m    857\u001B[0m         handle \u001B[38;5;241m=\u001B[39m \u001B[38;5;28mopen\u001B[39m(\n\u001B[0;32m    858\u001B[0m             handle,\n\u001B[0;32m    859\u001B[0m             ioargs\u001B[38;5;241m.\u001B[39mmode,\n\u001B[1;32m   (...)\u001B[0m\n\u001B[0;32m    862\u001B[0m             newline\u001B[38;5;241m=\u001B[39m\u001B[38;5;124m\"\u001B[39m\u001B[38;5;124m\"\u001B[39m,\n\u001B[0;32m    863\u001B[0m         )\n\u001B[0;32m    864\u001B[0m     \u001B[38;5;28;01melse\u001B[39;00m:\n\u001B[0;32m    865\u001B[0m         \u001B[38;5;66;03m# Binary mode\u001B[39;00m\n\u001B[1;32m--> 866\u001B[0m         handle \u001B[38;5;241m=\u001B[39m \u001B[38;5;28;43mopen\u001B[39;49m\u001B[43m(\u001B[49m\u001B[43mhandle\u001B[49m\u001B[43m,\u001B[49m\u001B[43m \u001B[49m\u001B[43mioargs\u001B[49m\u001B[38;5;241;43m.\u001B[39;49m\u001B[43mmode\u001B[49m\u001B[43m)\u001B[49m\n\u001B[0;32m    867\u001B[0m     handles\u001B[38;5;241m.\u001B[39mappend(handle)\n\u001B[0;32m    869\u001B[0m \u001B[38;5;66;03m# Convert BytesIO or file objects passed with an encoding\u001B[39;00m\n",
      "\u001B[1;31mFileNotFoundError\u001B[0m: [Errno 2] No such file or directory: '../output\\\\extraction-deep4Chem.gzip.parquet'"
     ]
    }
   ],
   "source": [
    "temp = utils.LoadDataFromOutput('extraction-deep4Chem')\n",
    "temp['Source'] = 'Deep4Chem'\n",
    "print(len(temp))\n",
    "temp.head(1)"
   ]
  },
  {
   "cell_type": "code",
   "execution_count": null,
   "id": "4cedda20",
   "metadata": {},
   "outputs": [],
   "source": [
    "temp['Epsilon'] = temp['Log(Epsilon)'].apply(lambda x: 10**x)\n",
    "\n",
    "temp['Smiles'] = temp['Chromophore']\n",
    "temp.rename(columns = {'Chromophore': 'Source Key'}, inplace = True)\n",
    "\n",
    "temp = temp[['Source', 'Source Key', 'Epsilon', 'Smiles']]\n",
    "\n",
    "data = temp.copy()"
   ]
  },
  {
   "cell_type": "markdown",
   "id": "7b8320ac",
   "metadata": {},
   "source": [
    "### PhotoChemCad 3"
   ]
  },
  {
   "cell_type": "code",
   "execution_count": null,
   "id": "4fd071bc",
   "metadata": {},
   "outputs": [],
   "source": [
    "temp = utils.LoadDataFromOutput('extraction-photochemCad3')\n",
    "temp['Source'] = 'PhotoChemCAD3'\n",
    "temp.columns = temp.columns.str.replace('_', ' ').str.title()\n",
    "print(len(temp))\n",
    "temp.head(1)"
   ]
  },
  {
   "cell_type": "code",
   "execution_count": null,
   "id": "f54e5261",
   "metadata": {},
   "outputs": [],
   "source": [
    "temp.rename(columns = {'Name': 'Source Key'}, inplace = True)\n",
    "\n",
    "temp = temp[['Source', 'Source Key', 'Epsilon', 'Smiles']]\n",
    "\n",
    "data = data.append(temp)"
   ]
  },
  {
   "cell_type": "markdown",
   "id": "01e4ec7f",
   "metadata": {},
   "source": [
    "### Dyomics"
   ]
  },
  {
   "cell_type": "code",
   "execution_count": null,
   "id": "5dff63e2",
   "metadata": {},
   "outputs": [],
   "source": [
    "temp = utils.LoadDataFromOutput('extraction-dyomics')\n",
    "temp['Source'] = 'Dyomics'\n",
    "temp.columns = temp.columns.str.replace('_', ' ').str.title()\n",
    "print(len(temp))\n",
    "temp.head(1)"
   ]
  },
  {
   "cell_type": "code",
   "execution_count": null,
   "id": "d71fc2a2",
   "metadata": {},
   "outputs": [],
   "source": [
    "temp.rename(columns = {'Molar Absorbance': 'Epsilon', 'Name': 'Source Key'}, inplace = True)\n",
    "\n",
    "temp = temp[['Source', 'Source Key', 'Epsilon', 'Smiles']]\n",
    "\n",
    "data = data.append(temp)\n",
    "data.reset_index(drop = True, inplace = True)\n",
    "data"
   ]
  },
  {
   "cell_type": "markdown",
   "id": "e978e511",
   "metadata": {},
   "source": [
    "## Compute Features"
   ]
  },
  {
   "cell_type": "code",
   "execution_count": null,
   "id": "388f2fd1",
   "metadata": {
    "scrolled": false
   },
   "outputs": [],
   "source": [
    "temp = data['Smiles'].drop_duplicates().to_frame()\n",
    "\n",
    "temp = temp.join(temp['Smiles'].progress_apply(features.ComputeAllFeatures).apply(lambda x: pd.Series(x, dtype = 'object'))).fillna(0)\n",
    "\n",
    "data = data.merge(temp, on = 'Smiles')"
   ]
  },
  {
   "cell_type": "markdown",
   "id": "472f9211",
   "metadata": {},
   "source": [
    "Removing data that didn't calculate all the features"
   ]
  },
  {
   "cell_type": "code",
   "execution_count": null,
   "id": "c163593d",
   "metadata": {},
   "outputs": [],
   "source": [
    "if ('Error' in data.columns):\n",
    "    data = data[data['Error'] != True].reset_index(drop = True)\n",
    "    data.drop(['Error'], axis = 'columns', inplace = True)"
   ]
  },
  {
   "cell_type": "markdown",
   "id": "3f509ce2",
   "metadata": {},
   "source": [
    "### Saving for later use"
   ]
  },
  {
   "cell_type": "code",
   "execution_count": null,
   "id": "149e465c",
   "metadata": {
    "scrolled": true
   },
   "outputs": [],
   "source": [
    "# Standardizing Column names\n",
    "data.columns = data.columns.str.replace('_', ' ').str.title()\n",
    "\n",
    "# Compressing data\n",
    "utils.ConvertFloatColumnsToIntegerIfNoDataLoss(data)\n",
    "utils.CompressIntegerColumns(data)"
   ]
  },
  {
   "cell_type": "code",
   "execution_count": null,
   "id": "4e725920",
   "metadata": {
    "scrolled": true
   },
   "outputs": [],
   "source": [
    "utils.SaveDataToOutput(data, 'dataset-allKnownEpsilon')\n",
    "utils.LoadDataFromOutput('dataset-allKnownEpsilon')"
   ]
  },
  {
   "cell_type": "markdown",
   "id": "af916985",
   "metadata": {},
   "source": [
    "### Cleaning up data"
   ]
  },
  {
   "cell_type": "code",
   "execution_count": null,
   "id": "bd606221",
   "metadata": {
    "scrolled": true
   },
   "outputs": [],
   "source": [
    "data.drop(['Source', 'Source Key', 'Smiles', 'Inchikey'], axis = 'columns', inplace = True)\n",
    "data.head(1)"
   ]
  },
  {
   "cell_type": "markdown",
   "id": "84f36e7a",
   "metadata": {},
   "source": [
    "Removing any entry that has an Epsilon >= 800K as it seems too good to be true and any entry that has an infinate value"
   ]
  },
  {
   "cell_type": "code",
   "execution_count": null,
   "id": "ccbf1331",
   "metadata": {
    "scrolled": true
   },
   "outputs": [],
   "source": [
    "limit = 800000\n",
    "print('Number of entries >= 800K: ' + str(len(data[data['Epsilon'] >= limit])))\n",
    "data = data[data['Epsilon'] < limit].copy()\n",
    "\n",
    "print('Columns with infinate values: ' + str(data.columns[np.isinf(data).any()].values))\n",
    "print('Number of entries with infinate values: ' + str(len(data.index[np.isinf(data).any(1)])))\n",
    "\n",
    "data.replace([np.inf, -np.inf], np.nan, inplace = True)\n",
    "data.dropna(inplace = True)\n",
    "data.reset_index(drop = True, inplace = True)"
   ]
  },
  {
   "cell_type": "code",
   "execution_count": null,
   "id": "a004ace1",
   "metadata": {
    "scrolled": true
   },
   "outputs": [],
   "source": [
    "utils.RemoveStaticColumns(data)\n",
    "print('-----------------')\n",
    "print('-----------------')\n",
    "print('-----------------')\n",
    "utils.RemoveDuplicateColumns(data)"
   ]
  },
  {
   "cell_type": "markdown",
   "id": "d07b4b23",
   "metadata": {},
   "source": [
    "## Basic Analysis"
   ]
  },
  {
   "cell_type": "code",
   "execution_count": null,
   "id": "5520b8ec",
   "metadata": {},
   "outputs": [],
   "source": [
    "data.info()"
   ]
  },
  {
   "cell_type": "code",
   "execution_count": null,
   "id": "72cc7854",
   "metadata": {},
   "outputs": [],
   "source": [
    "utils.InspectColumnValues(data)"
   ]
  },
  {
   "cell_type": "code",
   "execution_count": null,
   "id": "c21f97b1",
   "metadata": {},
   "outputs": [],
   "source": [
    "data.describe()"
   ]
  },
  {
   "cell_type": "code",
   "execution_count": null,
   "id": "8b136270",
   "metadata": {
    "scrolled": true
   },
   "outputs": [],
   "source": [
    "utils.ShowHistogramCharts(data)"
   ]
  },
  {
   "cell_type": "markdown",
   "id": "2e05ce57",
   "metadata": {},
   "source": [
    "## Building Validation and Development Dataset and saving for use later"
   ]
  },
  {
   "cell_type": "code",
   "execution_count": null,
   "id": "114d4511",
   "metadata": {},
   "outputs": [],
   "source": [
    "def SplitData(data):\n",
    "    validation = data.sample(frac = .1, random_state = 82219)\n",
    "    development_mask = pd.Series(True, index = data.index)\n",
    "    development_mask[validation.index] = False\n",
    "    development = data[development_mask].copy()\n",
    "    development.reset_index(drop = True, inplace = True)\n",
    "    validation.reset_index(drop = True, inplace = True)\n",
    "    \n",
    "    return development, validation"
   ]
  },
  {
   "cell_type": "code",
   "execution_count": null,
   "id": "8a6ffd52",
   "metadata": {},
   "outputs": [],
   "source": [
    "development, validation = SplitData(data)"
   ]
  },
  {
   "cell_type": "code",
   "execution_count": null,
   "id": "3ad283ab",
   "metadata": {
    "scrolled": true
   },
   "outputs": [],
   "source": [
    "utils.SaveDataToOutput(development, 'dataset-development')\n",
    "utils.LoadDataFromOutput('dataset-development')"
   ]
  },
  {
   "cell_type": "code",
   "execution_count": null,
   "id": "f0bbf74f",
   "metadata": {},
   "outputs": [],
   "source": [
    "utils.SaveDataToOutput(validation, 'dataset-validation')\n",
    "utils.LoadDataFromOutput('dataset-validation')"
   ]
  },
  {
   "cell_type": "code",
   "execution_count": null,
   "id": "8be76ba9",
   "metadata": {},
   "outputs": [],
   "source": [
    "print('Number of entries in development dataset: ' + str(len(development)))\n",
    "print('Number of entries in validation dataset: ' + str(len(validation)))"
   ]
  },
  {
   "cell_type": "code",
   "execution_count": null,
   "id": "6cdecb24",
   "metadata": {},
   "outputs": [],
   "source": []
  }
 ],
 "metadata": {
  "kernelspec": {
   "display_name": "Python 3 (ipykernel)",
   "language": "python",
   "name": "python3"
  },
  "language_info": {
   "codemirror_mode": {
    "name": "ipython",
    "version": 3
   },
   "file_extension": ".py",
   "mimetype": "text/x-python",
   "name": "python",
   "nbconvert_exporter": "python",
   "pygments_lexer": "ipython3",
   "version": "3.10.7"
  }
 },
 "nbformat": 4,
 "nbformat_minor": 5
}
